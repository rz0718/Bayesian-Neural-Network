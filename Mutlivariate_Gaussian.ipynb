{
  "nbformat": 4,
  "nbformat_minor": 0,
  "metadata": {
    "colab": {
      "name": "Mutlivariate Gaussian.ipynb",
      "provenance": [],
      "authorship_tag": "ABX9TyPZghx9tGNxTvf5bzqf9OEx",
      "include_colab_link": true
    },
    "kernelspec": {
      "name": "python3",
      "display_name": "Python 3"
    }
  },
  "cells": [
    {
      "cell_type": "markdown",
      "metadata": {
        "id": "view-in-github",
        "colab_type": "text"
      },
      "source": [
        "<a href=\"https://colab.research.google.com/github/rz0718/Bayesian-Neural-Network/blob/master/Mutlivariate_Gaussian.ipynb\" target=\"_parent\"><img src=\"https://colab.research.google.com/assets/colab-badge.svg\" alt=\"Open In Colab\"/></a>"
      ]
    },
    {
      "cell_type": "markdown",
      "metadata": {
        "id": "AHbIpyx0yc30",
        "colab_type": "text"
      },
      "source": [
        "# This notebooks will provide more details on Multivariate Guassians.\n",
        "\n",
        "\n",
        "1. The defintion of Multivariate Gaussian\n",
        "\n",
        "$p(x;u,{\\Sigma})=\\frac{1}{(2{\\pi})^{d/2}{\\Sigma}^{1/2}}exp(-\\frac{(x-u)^T\\Sigma(x-u)}{2})$. \n",
        "\n",
        "Here:\n",
        "* x is a vector-based random variable $x\\in\\mathbb{R}^d$.\n",
        "* $\\Sigma\\in\\mathbb{R}_{++}^d$ is the symmetric and positive definite covariance matrix\n",
        "\n",
        "How to sample the multivariate gaussian? \n",
        "1. Numpy package has a build-in multivariate normal sampling function"
      ]
    },
    {
      "cell_type": "code",
      "metadata": {
        "id": "-QNFwQf83sBF",
        "colab_type": "code",
        "colab": {
          "base_uri": "https://localhost:8080/",
          "height": 51
        },
        "outputId": "43836069-6d90-4824-acd6-5a86b39e24c5"
      },
      "source": [
        "import numpy as np \n",
        "import matplotlib.pyplot as plt\n",
        "import seaborn as sns; sns.set()"
      ],
      "execution_count": 1,
      "outputs": [
        {
          "output_type": "stream",
          "text": [
            "/usr/local/lib/python3.6/dist-packages/statsmodels/tools/_testing.py:19: FutureWarning: pandas.util.testing is deprecated. Use the functions in the public API at pandas.testing instead.\n",
            "  import pandas.util.testing as tm\n"
          ],
          "name": "stderr"
        }
      ]
    },
    {
      "cell_type": "code",
      "metadata": {
        "id": "PIG9y1J83082",
        "colab_type": "code",
        "colab": {}
      },
      "source": [
        "# Define dimension. \n",
        "d = 2\n",
        "# Set mean vector. \n",
        "m = np.array([1.5, 2.5]).reshape(2, 1)\n",
        "# Set covariance function. \n",
        "Sigma_0 = np.array([[4, 1],\n",
        "                [1, 2]])"
      ],
      "execution_count": 4,
      "outputs": []
    },
    {
      "cell_type": "code",
      "metadata": {
        "id": "5qS5wPW2ysit",
        "colab_type": "code",
        "colab": {}
      },
      "source": [
        "# Number of samples\n",
        "n = 100000\n",
        "z = np.random.multivariate_normal(mean=m.reshape(d,), cov=Sigma_0, size=n)\n",
        "y = np.transpose(z)"
      ],
      "execution_count": 6,
      "outputs": []
    },
    {
      "cell_type": "code",
      "metadata": {
        "id": "yual8uF33_nB",
        "colab_type": "code",
        "colab": {
          "base_uri": "https://localhost:8080/",
          "height": 441
        },
        "outputId": "94d8036e-9042-411d-d9cb-e6e46e594fbc"
      },
      "source": [
        "# Plot density function.\n",
        "sns.jointplot(x=y[0],\n",
        "              y=y[1], \n",
        "              kind=\"kde\", \n",
        "              space=0);"
      ],
      "execution_count": 7,
      "outputs": [
        {
          "output_type": "display_data",
          "data": {
            "image/png": "[encoded data removed]",
            "text/plain": [
              "<Figure size 432x432 with 3 Axes>"
            ]
          },
          "metadata": {
            "tags": [],
            "needs_background": "light"
          }
        }
      ]
    },
    {
      "cell_type": "markdown",
      "metadata": {
        "id": "dO5mFu183ss1",
        "colab_type": "text"
      },
      "source": [
        "2. Based on Cholesky Decompsition (starting from $x\\sim{N(0, I)}$)\n",
        "\n",
        "* 2.1\n",
        "We want to compute the Cholesky decomposition of the covariance matrix $\\mathbf{\\Sigma}$. It means $\\mathbf{\\Sigma}=\\mathbf{L}\\mathbf{L}^T$. Regarding numberical stability:\n",
        "\n",
        "In practice it may be necessary to add a small multiple of the identity matrix \n",
        "εI to the covariance matrix for numerical reasons. This is because the eigenvalues of the matrix $\\mathbf{\\Sigma}$ can decay very rapidly and without this stabilization the Cholesky decomposition fails. The effect on the generated samples is to add additional independent noise of variance \n",
        "ε. From the context ε can usually be chosen to have inconsequential effects on the samples, while ensuring numerical stability.\n",
        "\n",
        "* 2.2\n",
        "Generate Independent Samples $x\\sim{N(0, I)}$\n",
        "\n",
        "* 2.3\n",
        "\n",
        "Compute $\\mathbf{x}=\\mathbf{m}+\\mathbf{L}\\mathbf{u}$\n",
        "The variable x=m+Lu has a multivariate normal distribution since it is a linear combination of **independent** normally distributed variables. Moreover,\n",
        "$E(x)=E(m+Lu)=m+LE(u)=m$\n",
        "\n",
        "$E(xx^T)=E(mm^T)+E(mu^TL^T)+E(Lum^T)+E(Luu^TL^T)=$.\n",
        "\n",
        "Hence, $E((x-m)(x-m)^T)=\\Sigma$\n"
      ]
    },
    {
      "cell_type": "code",
      "metadata": {
        "id": "1D3ky8Yk4ZC9",
        "colab_type": "code",
        "colab": {}
      },
      "source": [
        "# Define epsilon.\n",
        "epsilon = 0.0001\n",
        "\n",
        "# Add small pertturbation. \n",
        "Sigma = Sigma_0 + epsilon*np.identity(d)"
      ],
      "execution_count": 8,
      "outputs": []
    },
    {
      "cell_type": "code",
      "metadata": {
        "id": "2lDsTuXV4tlV",
        "colab_type": "code",
        "colab": {}
      },
      "source": [
        "L = np.linalg.cholesky(Sigma)"
      ],
      "execution_count": 9,
      "outputs": []
    },
    {
      "cell_type": "code",
      "metadata": {
        "id": "IhE9n5Ac4vfd",
        "colab_type": "code",
        "colab": {}
      },
      "source": [
        "# Number of samples\n",
        "n = 100000\n",
        "u = np.random.normal(loc=0, scale=1, size=d*n).reshape(d, n)"
      ],
      "execution_count": 10,
      "outputs": []
    },
    {
      "cell_type": "code",
      "metadata": {
        "id": "jd4iBfTz4xVO",
        "colab_type": "code",
        "colab": {}
      },
      "source": [
        "x = m + np.dot(L, u)"
      ],
      "execution_count": 11,
      "outputs": []
    },
    {
      "cell_type": "code",
      "metadata": {
        "id": "TydBxtw94yXm",
        "colab_type": "code",
        "colab": {
          "base_uri": "https://localhost:8080/",
          "height": 458
        },
        "outputId": "2e260f86-0f49-4ce3-cf2f-5594fa16bcce"
      },
      "source": [
        "sns.jointplot(x=x[0],\n",
        "              y=x[1], \n",
        "              kind=\"kde\", \n",
        "              space=0)"
      ],
      "execution_count": 12,
      "outputs": [
        {
          "output_type": "execute_result",
          "data": {
            "text/plain": [
              "<seaborn.axisgrid.JointGrid at 0x7f520e6ff240>"
            ]
          },
          "metadata": {
            "tags": []
          },
          "execution_count": 12
        },
        {
          "output_type": "display_data",
          "data": {
            "image/png": "[encoded data removed]",
            "text/plain": [
              "<Figure size 432x432 with 3 Axes>"
            ]
          },
          "metadata": {
            "tags": [],
            "needs_background": "light"
          }
        }
      ]
    },
    {
      "cell_type": "code",
      "metadata": {
        "id": "oztMb7uQ4za2",
        "colab_type": "code",
        "colab": {}
      },
      "source": [
        ""
      ],
      "execution_count": null,
      "outputs": []
    }
  ]
}