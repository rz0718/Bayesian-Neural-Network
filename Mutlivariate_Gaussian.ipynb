{
  "nbformat": 4,
  "nbformat_minor": 0,
  "metadata": {
    "colab": {
      "name": "Mutlivariate Gaussian.ipynb",
      "provenance": [],
      "authorship_tag": "ABX9TyMNCLGXr3gyH+jAxy4P3CDo",
      "include_colab_link": true
    },
    "kernelspec": {
      "name": "python3",
      "display_name": "Python 3"
    }
  },
  "cells": [
    {
      "cell_type": "markdown",
      "metadata": {
        "id": "view-in-github",
        "colab_type": "text"
      },
      "source": [
        "<a href=\"https://colab.research.google.com/github/rz0718/Bayesian-Neural-Network/blob/master/Mutlivariate_Gaussian.ipynb\" target=\"_parent\"><img src=\"https://colab.research.google.com/assets/colab-badge.svg\" alt=\"Open In Colab\"/></a>"
      ]
    },
    {
      "cell_type": "markdown",
      "metadata": {
        "id": "AHbIpyx0yc30",
        "colab_type": "text"
      },
      "source": [
        "# This notebooks will provide more details on Multivariate Guassians.\n",
        "\n",
        "\n",
        "1. The defintion of Multivariate Gaussian\n",
        "\n",
        "$p(x;u,{\\Sigma})=\\frac{1}{(2{\\pi})^{d/2}{\\Sigma}^{1/2}}exp(-\\frac{(x-u)^T\\Sigma(x-u)}{2})$. \n",
        "\n",
        "Here:\n",
        "* x is a vector-based random variable $x\\in\\mathbb{R}^d$.\n",
        "* $\\Sigma\\in\\mathbb{R}_{++}^d$ is the symmetric and positive definite covariance matrix\n",
        "\n",
        "How to sample the multivariate gaussian? \n",
        "1. Numpy package has a build-in multivariate normal sampling function\n",
        "\n",
        "2. Based on Cholesky Decompsition (starting from $x\\sim{N(0, I)}$)\n",
        "\n",
        "Conduct "
      ]
    },
    {
      "cell_type": "code",
      "metadata": {
        "id": "5qS5wPW2ysit",
        "colab_type": "code",
        "colab": {}
      },
      "source": [
        ""
      ],
      "execution_count": null,
      "outputs": []
    }
  ]
}