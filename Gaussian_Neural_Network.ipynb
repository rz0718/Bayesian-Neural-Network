{
  "nbformat": 4,
  "nbformat_minor": 0,
  "metadata": {
    "colab": {
      "name": "Gaussian Neural Network.ipynb",
      "provenance": []
    },
    "kernelspec": {
      "name": "python3",
      "display_name": "Python 3"
    }
  },
  "cells": [
    {
      "cell_type": "markdown",
      "metadata": {
        "id": "8LlTZg1oV01S",
        "colab_type": "text"
      },
      "source": [
        "Bayesian Neural Network\n",
        "\n",
        "Traditional deep learning take model weights as determined parameters. In the bayesian view, those parameters should be considered as random variables. It is obvious that the bayesian neural network can impose uncertainty on the weights. Therefore, the target of the training phases will be learning a distribution on the weights of a neural network. \n",
        "\n",
        "# Prepare Training Data\n",
        "\n",
        "The data will be in the sine wave."
      ]
    },
    {
      "cell_type": "code",
      "metadata": {
        "id": "vlIBE-QRVwH4",
        "colab_type": "code",
        "colab": {
          "base_uri": "https://localhost:8080/",
          "height": 298
        },
        "outputId": "5f39ff10-4885-4259-b5f7-f2cd0db2ab93"
      },
      "source": [
        "import numpy as np\n",
        "import matplotlib.pyplot as plt\n",
        "\n",
        "%matplotlib inline\n",
        "\n",
        "def f(x, sigma):\n",
        "    epsilon = np.random.randn(*x.shape) * sigma\n",
        "    return 10 * np.sin(2 * np.pi * (x)) + epsilon\n",
        "\n",
        "train_size = 32\n",
        "noise = 1.0\n",
        "\n",
        "X = np.linspace(-0.5, 0.5, train_size).reshape(-1, 1)\n",
        "y = f(X, sigma=noise)\n",
        "y_true = f(X, sigma=0.0)\n",
        "\n",
        "plt.scatter(X, y, marker='+', label='Training data')\n",
        "plt.plot(X, y_true, label='Truth')\n",
        "plt.title('Noisy training data and ground truth')\n",
        "plt.legend()"
      ],
      "execution_count": null,
      "outputs": [
        {
          "output_type": "execute_result",
          "data": {
            "text/plain": [
              "<matplotlib.legend.Legend at 0x7f7649e1ea20>"
            ]
          },
          "metadata": {
            "tags": []
          },
          "execution_count": 9
        },
        {
          "output_type": "display_data",
          "data": {
            "image/png": "[encoded data removed]",
            "text/plain": [
              "<Figure size 432x288 with 1 Axes>"
            ]
          },
          "metadata": {
            "tags": [],
            "needs_background": "light"
          }
        }
      ]
    },
    {
      "cell_type": "markdown",
      "metadata": {
        "id": "kbeP0PTEXP0A",
        "colab_type": "text"
      },
      "source": [
        ""
      ]
    },
    {
      "cell_type": "markdown",
      "metadata": {
        "id": "QfWcsF6mVwxI",
        "colab_type": "text"
      },
      "source": [
        ""
      ]
    },
    {
      "cell_type": "code",
      "metadata": {
        "id": "Ww0ARHXg-hh8",
        "colab_type": "code",
        "colab": {
          "base_uri": "https://localhost:8080/",
          "height": 34
        },
        "outputId": "6fa7f774-b1f3-4725-aec9-9c86c8104d8a"
      },
      "source": [
        "from keras import backend as K\n",
        "from keras import activations, initializers\n",
        "from keras.layers import Layer\n",
        "\n",
        "import tensorflow as tf\n",
        "import tensorflow_probability as tfp\n",
        "\n",
        "\n",
        "class DenseVariational(Layer):\n",
        "    def __init__(self,\n",
        "                 units,\n",
        "                 kl_weight,\n",
        "                 activation=None,\n",
        "                 prior_sigma_1=1.5,\n",
        "                 prior_sigma_2=0.1,\n",
        "                 prior_pi=0.5, **kwargs):\n",
        "        self.units = units\n",
        "        self.kl_weight = kl_weight\n",
        "        self.activation = activations.get(activation)\n",
        "        self.prior_sigma_1 = prior_sigma_1\n",
        "        self.prior_sigma_2 = prior_sigma_2\n",
        "        self.prior_pi_1 = prior_pi\n",
        "        self.prior_pi_2 = 1.0 - prior_pi\n",
        "        self.init_sigma = np.sqrt(self.prior_pi_1 * self.prior_sigma_1 ** 2 +\n",
        "                                  self.prior_pi_2 * self.prior_sigma_2 ** 2)\n",
        "\n",
        "        super().__init__(**kwargs)\n",
        "\n",
        "    def compute_output_shape(self, input_shape):\n",
        "        return input_shape[0], self.units\n",
        "\n",
        "    def build(self, input_shape):\n",
        "        self.kernel_mu = self.add_weight(name='kernel_mu',\n",
        "                                         shape=(input_shape[1], self.units),\n",
        "                                         initializer=initializers.normal(stddev=self.init_sigma),\n",
        "                                         trainable=True)\n",
        "        self.bias_mu = self.add_weight(name='bias_mu',\n",
        "                                       shape=(self.units,),\n",
        "                                       initializer=initializers.normal(stddev=self.init_sigma),\n",
        "                                       trainable=True)\n",
        "        self.kernel_rho = self.add_weight(name='kernel_rho',\n",
        "                                          shape=(input_shape[1], self.units),\n",
        "                                          initializer=initializers.constant(0.0),\n",
        "                                          trainable=True)\n",
        "        self.bias_rho = self.add_weight(name='bias_rho',\n",
        "                                        shape=(self.units,),\n",
        "                                        initializer=initializers.constant(0.0),\n",
        "                                        trainable=True)\n",
        "        super().build(input_shape)\n",
        "\n",
        "    def call(self, inputs, **kwargs):\n",
        "        kernel_sigma = tf.math.softplus(self.kernel_rho)\n",
        "        kernel = self.kernel_mu + kernel_sigma * tf.random.normal(self.kernel_mu.shape)\n",
        "\n",
        "        bias_sigma = tf.math.softplus(self.bias_rho)\n",
        "        bias = self.bias_mu + bias_sigma * tf.random.normal(self.bias_mu.shape)\n",
        "\n",
        "        self.add_loss(self.kl_loss(kernel, self.kernel_mu, kernel_sigma) +\n",
        "                      self.kl_loss(bias, self.bias_mu, bias_sigma))\n",
        "\n",
        "        return self.activation(K.dot(inputs, kernel) + bias)\n",
        "\n",
        "    def kl_loss(self, w, mu, sigma):\n",
        "        variational_dist = tfp.distributions.Normal(mu, sigma)\n",
        "        return self.kl_weight * K.sum(variational_dist.log_prob(w) - self.log_prior_prob(w))\n",
        "\n",
        "    def log_prior_prob(self, w):\n",
        "        comp_1_dist = tfp.distributions.Normal(0.0, self.prior_sigma_1)\n",
        "        comp_2_dist = tfp.distributions.Normal(0.0, self.prior_sigma_2)\n",
        "        return K.log(self.prior_pi_1 * comp_1_dist.prob(w) +\n",
        "                     self.prior_pi_2 * comp_2_dist.prob(w))"
      ],
      "execution_count": null,
      "outputs": [
        {
          "output_type": "stream",
          "text": [
            "Using TensorFlow backend.\n"
          ],
          "name": "stderr"
        }
      ]
    },
    {
      "cell_type": "code",
      "metadata": {
        "id": "40nQPoVO-7yB",
        "colab_type": "code",
        "colab": {}
      },
      "source": [
        "import warnings\n",
        "warnings.filterwarnings('ignore')\n",
        "\n",
        "from keras.layers import Input\n",
        "from keras.models import Model\n",
        "\n",
        "batch_size = train_size\n",
        "num_batches = train_size / batch_size\n",
        "\n",
        "kl_weight = 1.0 / num_batches\n",
        "prior_params = {\n",
        "    'prior_sigma_1': 1.5, \n",
        "    'prior_sigma_2': 0.1, \n",
        "    'prior_pi': 0.5 \n",
        "}\n",
        "\n",
        "x_in = Input(shape=(1,))\n",
        "x = DenseVariational(20, kl_weight, **prior_params, activation='relu')(x_in)\n",
        "x = DenseVariational(20, kl_weight, **prior_params, activation='relu')(x)\n",
        "x = DenseVariational(1, kl_weight, **prior_params)(x)\n",
        "\n",
        "model = Model(x_in, x)"
      ],
      "execution_count": null,
      "outputs": []
    },
    {
      "cell_type": "code",
      "metadata": {
        "id": "xfZ2IdrN--k5",
        "colab_type": "code",
        "colab": {}
      },
      "source": [
        "from keras import callbacks, optimizers\n",
        "\n",
        "def neg_log_likelihood(y_obs, y_pred, sigma=noise):\n",
        "    dist = tfp.distributions.Normal(loc=y_pred, scale=sigma)\n",
        "    return K.sum(-dist.log_prob(y_obs))\n",
        "\n",
        "model.compile(loss=neg_log_likelihood, optimizer=optimizers.Adam(lr=0.08), metrics=['mse'])\n",
        "model.fit(X, y, batch_size=batch_size, epochs=1500, verbose=0);"
      ],
      "execution_count": null,
      "outputs": []
    },
    {
      "cell_type": "code",
      "metadata": {
        "id": "77W5EfSB_A8B",
        "colab_type": "code",
        "colab": {
          "base_uri": "https://localhost:8080/",
          "height": 298
        },
        "outputId": "058561fa-6396-4324-f905-0b3f02be7f90"
      },
      "source": [
        "import tqdm\n",
        "\n",
        "X_test = np.linspace(-1.5, 1.5, 1000).reshape(-1, 1)\n",
        "y_pred_list = []\n",
        "\n",
        "for i in tqdm.tqdm(range(500)):\n",
        "    y_pred = model.predict(X_test)\n",
        "    y_pred_list.append(y_pred)\n",
        "    \n",
        "y_preds = np.concatenate(y_pred_list, axis=1)\n",
        "\n",
        "y_mean = np.mean(y_preds, axis=1)\n",
        "y_sigma = np.std(y_preds, axis=1)\n",
        "\n",
        "plt.plot(X_test, y_mean, 'r-', label='Predictive mean');\n",
        "plt.scatter(X, y, marker='+', label='Training data')\n",
        "plt.fill_between(X_test.ravel(), \n",
        "                 y_mean + 2 * y_sigma, \n",
        "                 y_mean - 2 * y_sigma, \n",
        "                 alpha=0.5, label='Epistemic uncertainty')\n",
        "plt.title('Prediction')\n",
        "plt.legend();"
      ],
      "execution_count": null,
      "outputs": [
        {
          "output_type": "stream",
          "text": [
            "100%|██████████| 500/500 [00:07<00:00, 65.87it/s]\n"
          ],
          "name": "stderr"
        },
        {
          "output_type": "display_data",
          "data": {
            "image/png": "[encoded data removed]",
            "text/plain": [
              "<Figure size 432x288 with 1 Axes>"
            ]
          },
          "metadata": {
            "tags": [],
            "needs_background": "light"
          }
        }
      ]
    },
    {
      "cell_type": "code",
      "metadata": {
        "id": "3pc8AIDN_Cvq",
        "colab_type": "code",
        "colab": {
          "base_uri": "https://localhost:8080/",
          "height": 34
        },
        "outputId": "070d5837-39b2-4ce0-b899-5f86d338e6fc"
      },
      "source": [
        "30.4/26.0\n"
      ],
      "execution_count": null,
      "outputs": [
        {
          "output_type": "execute_result",
          "data": {
            "text/plain": [
              "1.169230769230769"
            ]
          },
          "metadata": {
            "tags": []
          },
          "execution_count": 8
        }
      ]
    }
  ]
}